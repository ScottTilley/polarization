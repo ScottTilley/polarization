{
 "cells": [
  {
   "cell_type": "code",
   "execution_count": 1,
   "metadata": {},
   "outputs": [],
   "source": [
    "%matplotlib inline\n",
    "import os\n",
    "import glob\n",
    "import numpy as np\n",
    "from datetime import datetime\n",
    "import matplotlib.pyplot as plt\n",
    "import matplotlib.dates as mdates"
   ]
  },
  {
   "cell_type": "code",
   "execution_count": 2,
   "metadata": {},
   "outputs": [],
   "source": [
    "object_observed = \"GOES 17 [43226, 2018-022A]\"\n",
    "frequency = \"2211.041\"\n",
    "\n",
    "#object_observed = \"SIRIUS FM-6 [39360, 2013-058A]\"\n",
    "#frequency = \"2330.200\"\n",
    "#frequency = \"2342.200\"\n",
    "\n",
    "#object_observed = \"Zenith AZ:180 EL:90\"\n",
    "#frequency = \"2295.000\"\n",
    "\n",
    "#object_observed = \"SBIRS GEO 6 [53355, 2022-092A]\"\n",
    "#frequency = \"2252.500\"\n",
    "\n",
    "#object_observed = \"SBIRS GEO 4 [41937, 2017-004A]\"\n",
    "#frequency = \"2262.500\"\n",
    "\n",
    "#object_observed = \"DSCOVR [40390, 2015-007A]\"\n",
    "#frequency = \"2215.003\"\n",
    "\n",
    "#object_observed = \"GOES 18 [51850, 2022-021A]\"\n",
    "#frequency = \"2211.054\"\n",
    "\n",
    "# EUTE 7A is LHCP\n",
    "#object_observed = \"EUTE 7A [28187, 2004-008A]\"\n",
    "#frequency = \"2265.384\""
   ]
  },
  {
   "cell_type": "code",
   "execution_count": 3,
   "metadata": {},
   "outputs": [
    {
     "name": "stdout",
     "output_type": "stream",
     "text": [
      "610\n",
      "Latest Filename: /home/scott/blade_test/2023-10-09T02:41:16.xx.f32\n",
      "Datetime: 2023-10-09 02:41:16\n"
     ]
    }
   ],
   "source": [
    "calibrate = True\n",
    "nfft = 4096\n",
    "samp_rate = 2e6\n",
    "decim1 = 8\n",
    "integrate = int(samp_rate/decim1/nfft*10)\n",
    "print(integrate)\n",
    "directory_path = '/home/scott/blade_test/'\n",
    "\n",
    "filename_pattern = '*.xx.f32'\n",
    "\n",
    "latest_file = max(glob.glob(os.path.join(directory_path, filename_pattern)), key=os.path.getctime)\n",
    "\n",
    "filename_parts = os.path.basename(latest_file).split('.')[0].split('_')\n",
    "date_str = filename_parts[0]  # Format: yyyy-mm-ddThh:mm:ss\n",
    "\n",
    "date_format = \"%Y-%m-%dT%H:%M:%S\"\n",
    "datetime_obj = datetime.strptime(date_str, date_format)\n",
    "formatted_datetime = datetime_obj.strftime(\"%Y-%m-%dT%H:%M:%S\")\n",
    "\n",
    "xx = np.fromfile(os.path.join(directory_path, f'{formatted_datetime}.xx.f32'), dtype='float32').reshape((-1, nfft))\n",
    "yy = np.fromfile(os.path.join(directory_path, f'{formatted_datetime}.yy.f32'), dtype='float32').reshape((-1, nfft))\n",
    "xy = np.fromfile(os.path.join(directory_path, f'{formatted_datetime}.xy.c64'), dtype='complex64').reshape((-1, nfft))\n",
    "\n",
    "t = np.arange(xx.shape[0]) * integrate * nfft * decim1 / samp_rate * 1e3 * np.timedelta64(1, 'ms') + np.datetime64(datetime_obj)\n",
    "print(\"Latest Filename:\", latest_file)\n",
    "print(\"Datetime:\", datetime_obj)\n"
   ]
  },
  {
   "cell_type": "code",
   "execution_count": null,
   "metadata": {},
   "outputs": [],
   "source": [
    "peak_column_index = np.argmax(np.max(np.abs(xx), axis=0))\n",
    "xx_peak = xx[:, peak_column_index]\n",
    "yy_peak = yy[:, peak_column_index]\n",
    "gain_offset = np.average(xx_peak / yy_peak)\n",
    "print(\"Column Index for Peak Value:\", peak_column_index)\n",
    "print(\"Gain Offset:\", gain_offset)\n",
    "print(\"shape of XY: \", np.shape(xy))\n",
    "#gain_offset = np.average((np.max(xx[peak_value])/np.max(yy[peak_value])))# Assumes when purely RHCP or LHCP that the peaks should be the same.\n",
    "\n",
    "#gain_offset = np.average((np.median(xx, axis = 1)/np.median(yy, axis = 1))) # referenced to the noise floor...\n",
    "\n",
    "yy *= gain_offset\n",
    "xy *= np.sqrt(gain_offset)\n",
    "\n",
    "n_rows,n_col = xy.shape\n",
    "avg_complex_value = 0\n",
    "for _ in range(n_rows):\n",
    "    avg_complex_value += np.mean(xy, axis=0)\n",
    "avg_complex_value /= n_rows\n",
    "peak_value = np.max(np.abs(avg_complex_value))\n",
    "peak_column_index = np.argmax(np.abs(avg_complex_value)) \n",
    "phase_angle_degrees = np.angle(avg_complex_value[peak_column_index], deg=True)\n",
    "print(\"Column Index for Peak Value:\", peak_column_index)\n",
    "print(\"Complex Phase Angle (Degrees) of Peak Value:\", phase_angle_degrees)\n",
    "\n",
    "# NOTE: DSCOVR is LHCP, so using its phase to calibrate while keeping circular polarization convention.\n",
    "#xy *= np.exp(-1j*np.deg2rad(phase_angle_degrees+180))*(-1j) # correct for X-Y phase offset\n",
    "\n",
    "frequency_values = np.arange((samp_rate/decim1)/-2.0, (samp_rate/decim1)/2.0, (samp_rate/decim1)/nfft)\n",
    "frequency_values += float(frequency) *1e6\n",
    "\n",
    "\n",
    "plt.figure(figsize=(12, 6))\n",
    "plt.plot(frequency_values, np.angle(avg_complex_value, deg=True), '.')\n",
    "plt.xlabel('Frequency (Hz)')\n",
    "plt.ylabel('Phase Angle (Degrees)')\n",
    "plt.title(f'{object_observed}, {frequency}MHz - Average Phase Angle vs. Frequency - {formatted_datetime}')\n",
    "plt.grid(True)\n",
    "\n",
    "filename = f'{object_observed}_{formatted_datetime}_avg_phase_freq.png'\n",
    "plt.savefig(filename)\n",
    "\n",
    "xy *= np.exp(-1j*np.deg2rad(phase_angle_degrees))*(-1j) # correct for X-Y phase offset"
   ]
  },
  {
   "cell_type": "code",
   "execution_count": null,
   "metadata": {},
   "outputs": [],
   "source": [
    "result = xx + yy\n",
    "min_value = 10*np.log10(np.min(result))\n",
    "max_value = 10*np.log10(np.max(result))\n",
    "print(\"Minimum Value:\", min_value)\n",
    "print(\"Maximum Value:\", max_value)\n",
    "\n",
    "plt.figure(figsize = (15,15), facecolor = 'w')\n",
    "plt.imshow(10*np.log10(xx+yy)[:,::-1].T, extent = (mdates.date2num(t[0]),mdates.date2num(t[-1]), -120, 120),\n",
    "          aspect = 3.5e-4, vmin = -20, vmax = -15)\n",
    "plt.gca().set_xlim((t[0], t[-1]))\n",
    "plt.gca().xaxis.set_major_formatter(mdates.DateFormatter('%H:%M'))\n",
    "plt.ylabel('Frequency (kHz)')\n",
    "plt.xlabel('UTC time')\n",
    "\n",
    "title_text = f'{object_observed} {frequency}MHz Signal, {formatted_datetime}'\n",
    "plt.title(title_text)\n",
    "\n",
    "filename = f'{object_observed}_{formatted_datetime}_sig_plot.png'\n",
    "plt.savefig(filename)"
   ]
  },
  {
   "cell_type": "code",
   "execution_count": null,
   "metadata": {},
   "outputs": [],
   "source": [
    "\n"
   ]
  },
  {
   "cell_type": "code",
   "execution_count": null,
   "metadata": {},
   "outputs": [],
   "source": [
    "signal_peak = np.argmax(xx + yy, axis = 1)\n",
    "offsets = np.arange(-2,3)\n",
    "signal_xx = np.zeros(xx.shape[0])\n",
    "signal_yy = np.zeros(yy.shape[0])\n",
    "signal_xy = np.zeros(xy.shape[0], dtype = 'complex')\n",
    "for offset in np.arange(-2,3):\n",
    "    signal_xx += xx[np.arange(signal_peak.shape[0]), signal_peak + offset]\n",
    "    signal_yy += yy[np.arange(signal_peak.shape[0]), signal_peak + offset]\n",
    "    signal_xy += xy[np.arange(signal_peak.shape[0]), signal_peak + offset]\n",
    "signal_xx /= offsets.size\n",
    "signal_yy /= offsets.size\n",
    "signal_xy /= offsets.size\n",
    "gain_xx_yy = np.median(signal_xx + signal_yy)\n",
    "signal_xx /= gain_xx_yy\n",
    "signal_yy /= gain_xx_yy\n",
    "signal_xy /= gain_xx_yy"
   ]
  },
  {
   "cell_type": "code",
   "execution_count": null,
   "metadata": {},
   "outputs": [],
   "source": [
    "I = signal_xx + signal_yy\n",
    "Q = signal_xx - signal_yy\n",
    "U = 2*signal_xy.real\n",
    "V = -2*signal_xy.imag\n",
    "L = Q + 1j*U\n",
    "P = np.sqrt(Q**2 + U**2 + V**2)"
   ]
  },
  {
   "cell_type": "code",
   "execution_count": null,
   "metadata": {},
   "outputs": [],
   "source": [
    "sel = slice(1,None)\n",
    "plt.figure(figsize = (12, 6))\n",
    "plt.plot(t[sel], 10*np.log10(I[sel]), '.')\n",
    "plt.ylabel('Stokes I (dB)')\n",
    "plt.xlabel('UTC time')\n",
    "\n",
    "title_text = f'{object_observed} {frequency}MHz Signal Strength, {formatted_datetime}'\n",
    "plt.title(title_text)\n",
    "\n",
    "filename = f'{object_observed}_{formatted_datetime}_sig_strength.png'\n",
    "plt.savefig(filename)"
   ]
  },
  {
   "cell_type": "code",
   "execution_count": null,
   "metadata": {},
   "outputs": [],
   "source": [
    "plt.figure(figsize = (12, 6))\n",
    "plt.plot(t[sel], (P/I)[sel], '.')\n",
    "plt.xlabel('UTC time')\n",
    "plt.ylabel('Polarized fraction intensity (Stokes $I_p/I$)')\n",
    "title_text = f'{object_observed} {frequency}MHz Polarization Fraction, {formatted_datetime}'\n",
    "plt.title(title_text)\n",
    "filename = f'{object_observed}_{formatted_datetime}_pol_frac.png'\n",
    "plt.savefig(filename)"
   ]
  },
  {
   "cell_type": "code",
   "execution_count": null,
   "metadata": {},
   "outputs": [],
   "source": [
    "plt.figure(figsize = (12, 6))\n",
    "plt.plot(t[sel], (Q/I)[sel], '.')\n",
    "plt.plot(t[sel], (U/I)[sel], '.')\n",
    "plt.plot(t[sel], (V/I)[sel], '.')\n",
    "plt.legend(['Stokes Q/I', 'Stokes U/I', 'Stokes V/I'])\n",
    "plt.xlabel('UTC time')\n",
    "title_text = f'{object_observed} {frequency}MHz Stokes Parameters, {formatted_datetime}'\n",
    "plt.title(title_text)\n",
    "filename = f'{object_observed}_{formatted_datetime}_stokes_par.png'\n",
    "plt.savefig(filename)"
   ]
  },
  {
   "cell_type": "code",
   "execution_count": null,
   "metadata": {},
   "outputs": [],
   "source": [
    "plt.figure(figsize = (12, 6))\n",
    "plt.plot(t[sel], (np.abs(L)/I)[sel], '.')\n",
    "plt.ylim((0,1))\n",
    "plt.xlabel('UTC time')\n",
    "plt.ylabel('Linear polarization fraction (Stokes $|L|/I$)', color = 'C0')\n",
    "ax2 = plt.gca().twinx()\n",
    "plt.plot(t[sel], np.rad2deg(np.angle(L[sel])/2), '.', color = 'C1')\n",
    "ax2.set_ylabel('Polarization angle (Stokes $arg(L)/2$)', color = 'C1')\n",
    "ax2.set_ylim((-90,90))\n",
    "title_text = f'{object_observed} {frequency}MHz Linear Polarization, {formatted_datetime}'\n",
    "plt.title(title_text)\n",
    "filename = f'{object_observed}_{formatted_datetime}_lin_pol.png'\n",
    "plt.savefig(filename)"
   ]
  },
  {
   "cell_type": "code",
   "execution_count": null,
   "metadata": {},
   "outputs": [],
   "source": [
    "plt.figure(figsize = (12, 6))\n",
    "plt.plot(t[sel], (V/I)[sel], '.')\n",
    "plt.legend(['Stokes V/I'])\n",
    "plt.xlabel('UTC time')\n",
    "title_text = f'{object_observed} {frequency}MHz Stokes V/I, {formatted_datetime}'\n",
    "plt.title(title_text)\n",
    "filename = f'{object_observed}_{formatted_datetime}_stokes_V_I.png'\n",
    "plt.savefig(filename)"
   ]
  },
  {
   "cell_type": "code",
   "execution_count": null,
   "metadata": {},
   "outputs": [],
   "source": [
    "plt.figure(figsize = (12, 6))\n",
    "plt.plot(t[sel], (V)[sel], '.')\n",
    "plt.xlabel('UTC time')\n",
    "plt.ylabel('Stokes V (dB)')\n",
    "title_text = f'{object_observed} {frequency}MHz Stokes V, {formatted_datetime}'\n",
    "plt.title(title_text)\n",
    "filename = f'{object_observed}_{formatted_datetime}_stokes_V.png'\n",
    "plt.savefig(filename)"
   ]
  }
 ],
 "metadata": {
  "kernelspec": {
   "display_name": "Python 3 (ipykernel)",
   "language": "python",
   "name": "python3"
  },
  "language_info": {
   "codemirror_mode": {
    "name": "ipython",
    "version": 3
   },
   "file_extension": ".py",
   "mimetype": "text/x-python",
   "name": "python",
   "nbconvert_exporter": "python",
   "pygments_lexer": "ipython3",
   "version": "3.10.12"
  }
 },
 "nbformat": 4,
 "nbformat_minor": 4
}
